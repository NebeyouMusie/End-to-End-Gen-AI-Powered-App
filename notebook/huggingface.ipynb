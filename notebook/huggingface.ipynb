{
 "cells": [
  {
   "cell_type": "code",
   "execution_count": 1,
   "metadata": {},
   "outputs": [],
   "source": [
    "from langchain_community.document_loaders import PyPDFLoader\n",
    "from langchain_community.document_loaders import PyPDFDirectoryLoader\n",
    "from langchain.text_splitter import RecursiveCharacterTextSplitter\n",
    "from langchain_community.vectorstores import FAISS\n",
    "from langchain_community.embeddings import HuggingFaceBgeEmbeddings\n",
    "from langchain_huggingface import HuggingFaceEndpoint\n",
    "from langchain.prompts import PromptTemplate\n",
    "from langchain.chains import RetrievalQA\n",
    "import numpy as np"
   ]
  },
  {
   "cell_type": "code",
   "execution_count": 2,
   "metadata": {},
   "outputs": [
    {
     "data": {
      "text/plain": [
       "Document(page_content='Health Insurance Coverage Status and Type \\nby Geography: 2021 and 2022\\nAmerican Community Survey Briefs\\nACSBR-015Issued September 2023Douglas Conway and Breauna Branch\\nINTRODUCTION\\nDemographic shifts as well as economic and govern-\\nment policy changes can affect people’s access to health coverage. For example, between 2021 and 2022, the labor market continued to improve, which may have affected private coverage in the United States \\nduring that time.\\n1 Public policy changes included \\nthe renewal of the Public Health Emergency, which \\nallowed Medicaid enrollees to remain covered under the Continuous Enrollment Provision.\\n2 The American \\nRescue Plan (ARP) enhanced Marketplace premium subsidies for those with incomes above 400 percent of the poverty level as well as for unemployed people.\\n3\\nIn addition to national policies, individual states and the District of Columbia can affect health insurance coverage by making Marketplace or Medicaid more accessible and affordable. This variation may be more or less pronounced across states. Missouri and \\nOklahoma expanded Medicaid eligibility under the \\nPatient Protection and Affordable Care Act (ACA) in 2022, leaving only twelve states without expanded Medicaid eligibility, primarily in the South and parts \\n1 The Bureau of Labor Statistics reported increases in national \\nemployment from 2021 to 2022. More information is available at \\n<www.bls.gov/opub/mlr/2023/article/unemployment-rate-returned-\\nto-its-prepandemic-level-in-2022.htm>.\\n2 Juliette Cubanski et al., “What Happens When COVID-19 \\nEmergency Declarations End? Implications for Coverage, Costs, and \\nAccess?,” Kaiser Family Foundation, 2023, <www.kff.org/coronavirus-\\ncovid-19/issue-brief/what-happens-when-covid-19-emergency-\\ndeclarations-end-implications-for-coverage-costs-and-access/>.\\n3 For more information, refer to the American Rescue Plan Act, \\nP.L. 117-2, March 11, 2021, <www.congress.gov/bill/117th-congress/house-bill/1319/text>.of the Midwest.4, 5 Kentucky, Maine, and New Mexico \\ncreated state-based health insurance marketplaces on \\nNovember 1, 2021, to replace their previously federally run exchanges.\\n6 State and federal policies designed to \\nincrease public coverage may also affect the supply and demand for private coverage. As a result, a variety of changes in coverage rates are possible. \\nThis brief uses the 2021 and 2022 American \\nCommunity Survey (ACS) 1-year estimates to exam-ine differences in health insurance coverage status and select subtypes (Medicaid, direct purchase, and employer-based) for the 50 states, the District of Columbia, and the 25 most populous metro-politan areas (refer to the “What Is Health Insurance Coverage?” text box).\\n7 It also examines year-to-year \\nchanges (2021 to 2022) across these geographies. \\n4 Note that for the purposes of this brief, we consider a state \\nto have expanded Medicaid eligibility if it expanded eligibility on \\nor before January 1st of that expansion year. For a state to have \\nexpanded Medicaid eligibility in 2022, it would have had to expand \\neligibility after January 1, 2021, but before January 1, 2022. For more \\ninformation, refer to the Patient Protection and Affordable Care \\nAct, P.L. 111-148, March 23, 2010, available at <www.congress.gov/\\nbill/111th-congress/house-bill/3590>.\\n5 For more information on the U.S. Census Bureau’s geographic \\nlevels, refer to Geographic Levels at <www.census.gov/programs-\\nsurveys/economic-census/guidance-geographies/levels.html>.\\n6 “Kentucky, Maine, and New Mexico Launch State Marketplaces \\nfor 2022 Coverage,” Centers for Medicare & Medicaid Services press release, 2023, <www.cms.gov/newsroom/press-releases/kentucky-\\nmaine-and-new-mexico-launch-state-marketplaces-2022-coverage>.\\n7 The Census Bureau has reviewed this data product to ensure \\nappropriate access, use, and disclosure avoidance protection \\nof the confidential source data used to produce this product \\n(Disclosure Review Board (DRB) approval number: CBDRB-FY23-\\nSEHSD003-049). For information on confidentiality protection, \\nsampling error, nonsampling error, and definitions in the American \\nCommunity Survey, refer to <https:/ /www2.census.gov/programs-\\nsurveys/acs/ tech_docs/accuracy/ACS_Accuracy_of_Data_2022.pdf>.', metadata={'source': 'End-to-End-Gen-AI-Powered-App/us-census-data/acsbr-015.pdf', 'page': 0})"
      ]
     },
     "execution_count": 2,
     "metadata": {},
     "output_type": "execute_result"
    }
   ],
   "source": [
    "# read the PDF's in the 'us-census-data' directory\n",
    "\n",
    "loader = PyPDFDirectoryLoader('End-to-End-Gen-AI-Powered-App/us-census-data')\n",
    "documents = loader.load()\n",
    "documents[0]"
   ]
  },
  {
   "cell_type": "code",
   "execution_count": 3,
   "metadata": {},
   "outputs": [
    {
     "data": {
      "text/plain": [
       "Document(page_content='Health Insurance Coverage Status and Type \\nby Geography: 2021 and 2022\\nAmerican Community Survey Briefs\\nACSBR-015Issued September 2023Douglas Conway and Breauna Branch\\nINTRODUCTION\\nDemographic shifts as well as economic and govern-\\nment policy changes can affect people’s access to health coverage. For example, between 2021 and 2022, the labor market continued to improve, which may have affected private coverage in the United States \\nduring that time.\\n1 Public policy changes included \\nthe renewal of the Public Health Emergency, which \\nallowed Medicaid enrollees to remain covered under the Continuous Enrollment Provision.\\n2 The American \\nRescue Plan (ARP) enhanced Marketplace premium subsidies for those with incomes above 400 percent of the poverty level as well as for unemployed people.\\n3', metadata={'source': 'End-to-End-Gen-AI-Powered-App/us-census-data/acsbr-015.pdf', 'page': 0})"
      ]
     },
     "execution_count": 3,
     "metadata": {},
     "output_type": "execute_result"
    }
   ],
   "source": [
    "# transform the data\n",
    "\n",
    "text_splitter = RecursiveCharacterTextSplitter(chunk_size=1000, chunk_overlap=200)\n",
    "final_documents = text_splitter.split_documents(documents)\n",
    "final_documents[0]"
   ]
  },
  {
   "cell_type": "code",
   "execution_count": 4,
   "metadata": {},
   "outputs": [
    {
     "data": {
      "text/plain": [
       "316"
      ]
     },
     "execution_count": 4,
     "metadata": {},
     "output_type": "execute_result"
    }
   ],
   "source": [
    "len(final_documents)"
   ]
  },
  {
   "cell_type": "code",
   "execution_count": 5,
   "metadata": {},
   "outputs": [
    {
     "name": "stderr",
     "output_type": "stream",
     "text": [
      "/home/zeus/miniconda3/envs/cloudspace/lib/python3.10/site-packages/huggingface_hub/file_download.py:1132: FutureWarning: `resume_download` is deprecated and will be removed in version 1.0.0. Downloads always resume when possible. If you want to force a new download, use `force_download=True`.\n",
      "  warnings.warn(\n"
     ]
    }
   ],
   "source": [
    "# embedding using Hugging Face\n",
    "embeddings = HuggingFaceBgeEmbeddings(\n",
    "    model_name='BAAI/bge-small-en-v1.5',  #sentence-transformers/all-MiniLM-l6-v2\n",
    "    model_kwargs={'device': 'cpu'},\n",
    "    encode_kwargs={'normalize_embeddings': True}\n",
    ")"
   ]
  },
  {
   "cell_type": "code",
   "execution_count": 6,
   "metadata": {},
   "outputs": [
    {
     "name": "stdout",
     "output_type": "stream",
     "text": [
      "[-8.46568346e-02 -1.19099440e-02 -3.37892473e-02  2.94559393e-02\n",
      "  5.19160032e-02  5.73839583e-02 -4.10018004e-02  2.74267644e-02\n",
      " -1.05128251e-01 -1.58055834e-02  7.94858560e-02  5.64318486e-02\n",
      " -1.31765241e-02 -3.41544449e-02  5.81598282e-03  4.72548008e-02\n",
      " -1.30747156e-02  3.12990649e-03 -3.44225839e-02  3.08406390e-02\n",
      " -4.09086198e-02  3.52737792e-02 -2.43761521e-02 -4.35831212e-02\n",
      "  2.41503362e-02  1.31986821e-02 -4.84453235e-03  1.92346908e-02\n",
      " -5.43912873e-02 -1.42735034e-01  5.15530724e-03  2.93115638e-02\n",
      " -5.60810231e-02 -8.53530224e-03  3.14141512e-02  2.76736263e-02\n",
      " -2.06188541e-02  8.24231580e-02  4.15425263e-02  5.79654723e-02\n",
      " -3.71586867e-02  6.26163650e-03 -2.41389778e-02 -5.61797665e-03\n",
      " -2.51715649e-02  5.04975207e-03 -2.52801683e-02 -2.91944738e-03\n",
      " -8.24044272e-03 -5.69604300e-02  2.30822954e-02 -5.54214371e-03\n",
      "  5.11555411e-02  6.09937795e-02  6.49766624e-02 -5.38514368e-02\n",
      "  2.19109636e-02 -2.54194327e-02 -4.49223295e-02  4.22459282e-02\n",
      "  4.75252606e-02  7.23216683e-04 -2.61084557e-01  9.30173844e-02\n",
      "  1.13598006e-02  4.90668416e-02 -1.06287235e-02 -8.08733329e-03\n",
      " -1.53562268e-02 -5.33786565e-02 -6.89966679e-02  4.75178473e-02\n",
      " -5.68596460e-02  9.38645843e-03  4.24065404e-02  2.54346840e-02\n",
      "  9.67100170e-03  7.90796150e-03  2.25161463e-02  1.91012595e-03\n",
      "  3.06092314e-02  2.43991800e-02 -1.34114651e-02 -4.77400981e-02\n",
      "  4.89940047e-02 -9.49417353e-02  5.62893450e-02 -4.76260409e-02\n",
      "  2.81447768e-02 -2.54329816e-02 -3.84951048e-02  1.00939907e-02\n",
      "  1.90499559e-04  3.36625464e-02  1.00182304e-02  2.83524375e-02\n",
      " -2.68971920e-03 -6.96362602e-03 -3.54915559e-02  3.42758864e-01\n",
      " -1.94496308e-02  1.43988179e-02 -5.68817742e-03  1.71479862e-02\n",
      " -2.88605224e-03 -5.81653789e-02  6.35175034e-04  5.17297862e-03\n",
      "  2.06331424e-02  1.65707972e-02  2.15097051e-02 -2.38795634e-02\n",
      "  2.89275628e-02  4.67319302e-02 -3.56104970e-02 -1.05078975e-02\n",
      "  3.70704345e-02  1.57502498e-02  9.43095461e-02 -2.50715073e-02\n",
      " -9.55965649e-03  1.78566072e-02 -9.41780023e-03 -4.57858928e-02\n",
      "  1.82930082e-02  5.81431203e-02  4.94310968e-02  1.46350697e-01\n",
      "  2.16057934e-02 -3.92895713e-02  1.03241190e-01 -3.48299518e-02\n",
      " -6.61874795e-03  7.07986066e-03  9.27031040e-04  4.49869316e-03\n",
      " -2.89776977e-02  4.02419493e-02 -5.23190107e-03  4.59962711e-02\n",
      "  4.23967047e-03 -4.83796280e-03 -3.23239248e-03 -1.41072869e-01\n",
      " -3.76811661e-02  1.83623850e-01 -2.96609346e-02  4.90660109e-02\n",
      "  3.90551910e-02 -1.57757830e-02 -3.86351235e-02  4.65630442e-02\n",
      " -2.43486371e-02  3.57695147e-02 -3.54946740e-02  2.36265901e-02\n",
      " -3.41890642e-04  3.11703756e-02 -2.39356663e-02 -5.94758056e-02\n",
      "  6.06259406e-02 -3.81902307e-02 -7.04255253e-02  1.42480498e-02\n",
      "  3.34432349e-02 -3.85254994e-02 -1.71951428e-02 -7.12289140e-02\n",
      "  2.64976770e-02  1.09496135e-02  1.32650482e-02  3.89528163e-02\n",
      "  1.60355009e-02 -3.17630358e-02  1.02013707e-01  2.92912126e-02\n",
      " -2.29205471e-02 -8.38061422e-03 -1.72172282e-02 -6.78820983e-02\n",
      "  5.39419753e-03 -2.32347064e-02 -6.07407168e-02 -3.86575647e-02\n",
      " -1.54306591e-02 -3.84983905e-02 -5.02867512e-02  5.04235290e-02\n",
      "  4.94897589e-02 -1.41082946e-02 -2.98146205e-03  9.76958690e-05\n",
      " -6.59189522e-02  3.01005952e-02 -5.46585710e-04 -1.64786950e-02\n",
      " -5.21614924e-02 -3.30220372e-03  4.75748628e-02 -3.40808369e-02\n",
      " -2.98660342e-02  2.75014769e-02  5.90199977e-03 -2.64042825e-03\n",
      " -1.61242317e-02  2.05222219e-02  1.21105043e-02 -5.49782291e-02\n",
      "  5.10389321e-02 -7.92087708e-03  7.25205895e-03  3.51750851e-02\n",
      "  3.66277546e-02  5.67705254e-04  2.60788091e-02  2.50971373e-02\n",
      "  1.14480937e-02 -2.54925061e-02  1.96417421e-02  2.84220278e-02\n",
      "  2.82553937e-02  6.57489598e-02  9.26553905e-02 -2.68629640e-01\n",
      " -8.90504220e-04  3.16910306e-03  5.08358283e-03 -6.42101169e-02\n",
      " -4.56614606e-02 -4.62259091e-02  3.60924639e-02  8.29051714e-03\n",
      "  8.92349407e-02  5.68022579e-02  6.91065798e-03 -1.08684320e-02\n",
      "  9.36060473e-02  1.03680613e-02 -8.60929713e-02  1.77332517e-02\n",
      " -2.00802144e-02 -1.85124520e-02  5.62392583e-04 -9.38337296e-03\n",
      "  7.76062114e-03 -5.37272878e-02 -2.30028238e-02  7.48890191e-02\n",
      " -1.29693495e-02  6.53717741e-02 -4.24983613e-02 -7.10293874e-02\n",
      " -1.56803206e-02 -6.23028502e-02  5.36034517e-02 -6.53211819e-03\n",
      " -1.15985557e-01  6.70969039e-02  1.93367414e-02 -6.67828023e-02\n",
      " -2.01760023e-03 -6.27636462e-02 -2.95005217e-02 -2.71986108e-02\n",
      "  4.49796915e-02 -6.61587268e-02  2.13751253e-02 -2.94077899e-02\n",
      " -5.71503639e-02  4.05282341e-02  7.11039901e-02 -6.80164844e-02\n",
      "  2.11908743e-02  1.30514950e-02 -2.91152745e-02 -2.25581639e-02\n",
      " -1.60188880e-02  3.20554599e-02 -5.89460619e-02 -2.97132134e-02\n",
      "  3.42681631e-02 -1.58375911e-02 -9.31770541e-03  3.59834917e-02\n",
      "  3.65344714e-03  4.73319814e-02 -1.06234439e-02 -8.69729370e-03\n",
      " -4.38009314e-02  5.94553864e-03 -2.41493843e-02 -7.79940784e-02\n",
      "  1.46542676e-02  1.05613824e-02  5.45365624e-02 -3.17897871e-02\n",
      " -1.26763219e-02  7.92554393e-03 -1.38132684e-02  5.01396693e-02\n",
      " -7.28576677e-03 -5.23700751e-03 -5.32641001e-02  4.78208587e-02\n",
      " -5.38353920e-02  1.11437123e-02  3.96674499e-02 -1.93496589e-02\n",
      "  9.94820427e-03 -3.53479944e-03  3.58563010e-03 -9.61500686e-03\n",
      "  2.15323716e-02 -1.82350557e-02 -2.15189364e-02 -1.38836065e-02\n",
      " -1.76699255e-02  3.37945297e-04 -3.84870829e-04 -2.25800633e-01\n",
      "  4.51243296e-02  1.53376721e-02 -1.76967774e-02 -1.42525639e-02\n",
      " -7.00281514e-03 -3.13724726e-02  2.13672826e-03 -9.28350445e-03\n",
      " -1.66986473e-02  4.66264486e-02  7.71809518e-02  1.26696989e-01\n",
      " -1.83595270e-02 -1.39636481e-02 -1.23301474e-03  5.93338460e-02\n",
      " -1.37466297e-03  1.98233481e-02 -2.92636808e-02  4.96656410e-02\n",
      " -6.07207343e-02  1.53544769e-01 -4.67309356e-02  1.97029021e-02\n",
      " -7.67833069e-02 -7.73226097e-03  3.71618830e-02 -3.00591104e-02\n",
      "  8.30264576e-03  2.06258390e-02  1.97464740e-03  3.39763761e-02\n",
      " -1.70869157e-02  4.84796166e-02  1.20782172e-02  1.24999303e-02\n",
      "  5.61724789e-02  9.88548435e-03  2.13879254e-02 -4.25294116e-02\n",
      " -1.94037352e-02  2.47838516e-02  1.37260305e-02  6.41119331e-02\n",
      " -2.84480881e-02 -4.64116670e-02 -5.36255948e-02 -6.95775889e-05\n",
      "  6.45710006e-02 -4.31963854e-04 -1.32470690e-02  5.85138472e-03\n",
      "  1.48595832e-02 -5.41847311e-02 -2.02038493e-02 -5.98263182e-02\n",
      "  3.67029533e-02  1.43319799e-03 -8.64468981e-03  2.90671214e-02\n",
      "  4.38365899e-02 -7.64942840e-02  1.55718355e-02  6.65830672e-02]\n",
      "(384,)\n"
     ]
    }
   ],
   "source": [
    "# let's check wheher our embedding is working or not\n",
    "\n",
    "print(np.array(embeddings.embed_query(final_documents[0].page_content)))\n",
    "print(np.array(embeddings.embed_query(final_documents[0].page_content)).shape)"
   ]
  },
  {
   "cell_type": "code",
   "execution_count": 7,
   "metadata": {},
   "outputs": [],
   "source": [
    "# vector store creation using FAISS\n",
    "vectorstore = FAISS.from_documents(final_documents[:120], embedding=embeddings)"
   ]
  },
  {
   "cell_type": "code",
   "execution_count": 8,
   "metadata": {},
   "outputs": [
    {
     "data": {
      "text/plain": [
       "'2 U.S. Census Bureau\\nWHAT IS HEALTH INSURANCE COVERAGE?\\nThis brief presents state-level estimates of health insurance coverage \\nusing data from the American Community Survey (ACS). The  \\nU.S. Census Bureau conducts the ACS throughout the year; the \\nsurvey asks respondents to report their coverage at the time of \\ninterview. The resulting measure of health insurance coverage, \\ntherefore, reflects an annual average of current comprehensive \\nhealth insurance coverage status.* This uninsured rate measures a \\ndifferent concept than the measure based on the Current Population \\nSurvey Annual Social and Economic Supplement (CPS ASEC). \\nFor reporting purposes, the ACS broadly classifies health insurance \\ncoverage as private insurance or public insurance. The ACS defines \\nprivate health insurance as a plan provided through an employer \\nor a union, coverage purchased directly by an individual from an \\ninsurance company or through an exchange (such as healthcare.'"
      ]
     },
     "execution_count": 8,
     "metadata": {},
     "output_type": "execute_result"
    }
   ],
   "source": [
    "# query using similarity search\n",
    "query = 'WHAT IS HEALTH INSURANCE COVERAGE?'\n",
    "relevant_documents = vectorstore.similarity_search(query)\n",
    "relevant_documents[0].page_content"
   ]
  },
  {
   "cell_type": "code",
   "execution_count": 9,
   "metadata": {},
   "outputs": [
    {
     "data": {
      "text/plain": [
       "VectorStoreRetriever(tags=['FAISS', 'HuggingFaceBgeEmbeddings'], vectorstore=<langchain_community.vectorstores.faiss.FAISS object at 0x7feaca05e950>, search_kwargs={'k': 3})"
      ]
     },
     "execution_count": 9,
     "metadata": {},
     "output_type": "execute_result"
    }
   ],
   "source": [
    "# setup retriever\n",
    "retriever = vectorstore.as_retriever(search_type='similarity', search_kwargs={'k': 3})\n",
    "retriever"
   ]
  },
  {
   "cell_type": "code",
   "execution_count": 10,
   "metadata": {},
   "outputs": [
    {
     "name": "stdout",
     "output_type": "stream",
     "text": [
      "The token has not been saved to the git credentials helper. Pass `add_to_git_credential=True` in this function directly or `--add-to-git-credential` if using via `huggingface-cli` if you want to set the git credential as well.\n",
      "Token is valid (permission: fineGrained).\n",
      "Your token has been saved to /home/zeus/.cache/huggingface/token\n",
      "Login successful\n"
     ]
    },
    {
     "data": {
      "text/plain": [
       "\"\\n\\nHealth insurance coverage is a contract between an individual or group and an insurance company that provides financial protection against the cost of medical care. The insurance company agrees to pay for certain medical expenses, while the insured pays a premium and may also be responsible for copayments, deductibles, and coinsurance.\\n\\nThere are different types of health insurance plans, including:\\n\\n1. Fee-for-service plans: These plans allow insured individuals to choose their own healthcare providers and pay for services on a per-visit basis.\\n2. Health maintenance organizations (HMOs): HMOs require insured individuals to choose a primary care physician who manages their care and refers them to specialists as needed.\\n3. Preferred provider organizations (PPOs): PPOs allow insured individuals to choose their healthcare providers from a network of preferred providers, and may offer more flexibility in terms of out-of-network care.\\n4. Point-of-service (POS) plans: POS plans are similar to PPOs, but require insured individuals to choose a primary care physician and obtain a referral to see specialists.\\n5. Exclusive provider organizations (EPOs): EPOs are similar to HMOs, but do not offer out-of-network coverage, meaning insured individuals must use in-network providers to receive coverage.\\n\\nIt's important to note that health insurance coverage can vary significantly depending on the specific plan and the insurer, so it's important to carefully review the details of any plan before enrolling. Additionally, the Affordable Care Act (ACA) requires most Americans to have health insurance coverage or face a penalty, unless they qualify for an exemption.\""
      ]
     },
     "execution_count": 10,
     "metadata": {},
     "output_type": "execute_result"
    }
   ],
   "source": [
    "# setup hugging face API token\n",
    "# get a token: https://huggingface.co/docs/api-inference/quicktour#get-your-api-token\n",
    "\n",
    "from getpass import getpass\n",
    "import os\n",
    "\n",
    "HUGGINGFACEHUB_API_TOKEN = getpass()\n",
    "os.environ[\"HUGGINGFACEHUB_API_TOKEN\"] = HUGGINGFACEHUB_API_TOKEN\n",
    "\n",
    "\n",
    "# setup LLM from Hugging Face\n",
    "repo_id = \"mistralai/Mistral-7B-Instruct-v0.2\"\n",
    "\n",
    "llm = HuggingFaceEndpoint(\n",
    "    repo_id=repo_id,\n",
    "    model_kwargs = {'max_length': 128},\n",
    "    temperature=0.5,\n",
    "    huggingfacehub_api_token=HUGGINGFACEHUB_API_TOKEN,\n",
    ")\n",
    "\n",
    "query = 'What is health insurance coverage?'\n",
    "llm.invoke(query)"
   ]
  },
  {
   "cell_type": "code",
   "execution_count": 11,
   "metadata": {},
   "outputs": [],
   "source": [
    "#Hugging Face models can be run locally through the HuggingFacePipeline class.\n",
    "# from langchain_community.llms.huggingface_pipeline import HuggingFacePipeline\n",
    "# from transformers import pipeline\n",
    "\n",
    "# hf_model = pipeline(\n",
    "#     \"text-generation\", model=\"cerebras/Cerebras-GPT-590M\", max_new_tokens=200\n",
    "# )\n",
    "\n",
    "# original_model = HuggingFacePipeline(pipeline=hf_model)\n",
    "\n",
    "# llm = hf \n",
    "# llm.invoke(query)"
   ]
  },
  {
   "cell_type": "code",
   "execution_count": 12,
   "metadata": {},
   "outputs": [],
   "source": [
    "prompt_template=\"\"\"\n",
    "Use the following piece of context to answer the question asked.\n",
    "Please try to provide the answer only based on the context\n",
    "\n",
    "{context}\n",
    "Question:{question}\n",
    "\n",
    "Helpful Answers:\n",
    " \"\"\""
   ]
  },
  {
   "cell_type": "code",
   "execution_count": 13,
   "metadata": {},
   "outputs": [],
   "source": [
    "# setup prompt\n",
    "prompt = PromptTemplate(template=prompt_template, input_variables=['context', 'question'])"
   ]
  },
  {
   "cell_type": "code",
   "execution_count": 14,
   "metadata": {},
   "outputs": [],
   "source": [
    "# retrieval QA\n",
    "retrievalQA = RetrievalQA.from_chain_type(\n",
    "    llm=llm,\n",
    "    chain_type='stuff',\n",
    "    retriever=retriever,\n",
    "    return_source_documents=True,\n",
    "    chain_type_kwargs={'prompt': prompt}\n",
    ")"
   ]
  },
  {
   "cell_type": "code",
   "execution_count": 15,
   "metadata": {},
   "outputs": [
    {
     "data": {
      "text/plain": [
       "'1. The uninsured rate in 2022 ranged from 2.4% in Massachusetts to 16.6% in Texas, with a national rate of 8.0%.\\n 2. Ten of the 15 states with the highest uninsured rates were above the national average.\\n 3. Medicaid coverage accounted for a larger percentage of coverage in states that expanded Medicaid eligibility (22.7%) compared to nonexpansion states (18.0%).\\n 4. Uninsured rates decreased in 27 states from 2021 to 2022, while only Maine had an increase.\\n 5. The uninsured rate in Maine increased from 5.7% to 6.6%, but it remained below the national average.\\n 6. The private coverage rates were not statistically different in North Dakota and Utah.\\n 7. The uninsured rates for the most populous metropolitan areas are provided in the context.\\n\\nDetailed Answer:\\nThe context provides information on the differences in the uninsured rate by state in 2022, as well as changes in the uninsured rate from 2021 to 2022. According to the context, the uninsured rate in 2022 ranged from a low of 2.4% in Massachusetts to a high of 16.6% in Texas, with a national rate of 8.0%. Ten of the 15 states with the highest uninsured rates were above the national average. Medicaid coverage accounted for a larger percentage of coverage in states that expanded Medicaid eligibility (22.7%) compared to nonexpansion states (18.0%). Uninsured rates decreased in 27 states from 2021 to 2022, while only Maine had an increase. The uninsured rate in Maine increased from 5.7% to 6.6%, but it remained below the national average. The private coverage rates were not statistically different in North Dakota and Utah. The uninsured rates for the most populous metropolitan areas are also provided in the context.'"
      ]
     },
     "execution_count": 15,
     "metadata": {},
     "output_type": "execute_result"
    }
   ],
   "source": [
    "query = 'DIFFERENCES IN THE UNINSURED RATE BY STATE IN 2022'\n",
    "result  = retrievalQA.invoke({'query': query})\n",
    "result['result']"
   ]
  }
 ],
 "metadata": {
  "kernelspec": {
   "display_name": "cloudspace",
   "language": "python",
   "name": "python3"
  },
  "language_info": {
   "codemirror_mode": {
    "name": "ipython",
    "version": 3
   },
   "file_extension": ".py",
   "mimetype": "text/x-python",
   "name": "python",
   "nbconvert_exporter": "python",
   "pygments_lexer": "ipython3",
   "version": "3.10.14"
  }
 },
 "nbformat": 4,
 "nbformat_minor": 2
}
